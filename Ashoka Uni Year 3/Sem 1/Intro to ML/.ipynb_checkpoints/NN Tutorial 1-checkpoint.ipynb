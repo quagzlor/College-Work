{
 "cells": [
  {
   "cell_type": "code",
   "execution_count": 3,
   "metadata": {
    "scrolled": true
   },
   "outputs": [
    {
     "ename": "SyntaxError",
     "evalue": "invalid syntax (<ipython-input-3-6d9dce3e7687>, line 12)",
     "output_type": "error",
     "traceback": [
      "\u001b[1;36m  File \u001b[1;32m\"<ipython-input-3-6d9dce3e7687>\"\u001b[1;36m, line \u001b[1;32m12\u001b[0m\n\u001b[1;33m    model.fit((training_data, target_data, epochs=500, verbose=2))\u001b[0m\n\u001b[1;37m                                                 ^\u001b[0m\n\u001b[1;31mSyntaxError\u001b[0m\u001b[1;31m:\u001b[0m invalid syntax\n"
     ]
    }
   ],
   "source": [
    "import numpy as np\n",
    "from keras.models import Sequential\n",
    "from keras.layers.core import Dense\n",
    "\n",
    "training_data = np.array([[0,0],[0,1],[1,0][1,1]],\"float32\")\n",
    "target_data = np.array([[0],[0],[0],[1]],\"float32\")\n",
    "\n",
    "model = Sequential()\n",
    "model.add(Dense(2,input_dim=2,activation='sigmoid'))\n",
    "\n",
    "model.compile(loss='mean_squared_error',optimizers='sgd',metrics=['accuracy'])\n",
    "model.fit((training_data, target_data, epochs=500, verbose=2))\n",
    "\n"
   ]
  },
  {
   "cell_type": "code",
   "execution_count": null,
   "metadata": {},
   "outputs": [],
   "source": []
  },
  {
   "cell_type": "code",
   "execution_count": null,
   "metadata": {},
   "outputs": [],
   "source": []
  }
 ],
 "metadata": {
  "kernelspec": {
   "display_name": "Python 3",
   "language": "python",
   "name": "python3"
  },
  "language_info": {
   "codemirror_mode": {
    "name": "ipython",
    "version": 3
   },
   "file_extension": ".py",
   "mimetype": "text/x-python",
   "name": "python",
   "nbconvert_exporter": "python",
   "pygments_lexer": "ipython3",
   "version": "3.6.5"
  }
 },
 "nbformat": 4,
 "nbformat_minor": 2
}

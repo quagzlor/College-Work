{
 "cells": [
  {
   "cell_type": "code",
   "execution_count": 22,
   "metadata": {},
   "outputs": [
    {
     "name": "stdout",
     "output_type": "stream",
     "text": [
      "Dependencies loaded\n"
     ]
    }
   ],
   "source": [
    "#Dependencies\n",
    "import re #Regular expressions\n",
    "\n",
    "from sklearn.feature_extraction.text import CountVectorizer #Used to one-hot encode the reviews\n",
    "\n",
    "from sklearn.linear_model import LogisticRegression #As implies\n",
    "from sklearn.metrics import accuracy_score #To get accuracy metric\n",
    "\n",
    "print (\"Dependencies loaded\")"
   ]
  },
  {
   "cell_type": "code",
   "execution_count": 16,
   "metadata": {},
   "outputs": [
    {
     "name": "stdout",
     "output_type": "stream",
     "text": [
      "Data loaded\n"
     ]
    }
   ],
   "source": [
    "#Load data\n",
    "\n",
    "file_read = open('train.txt',encoding = 'utf8')\n",
    "\n",
    "train = []\n",
    "for line in file_read.readlines():\n",
    "    train.append(line.strip())\n",
    "\n",
    "file_read.close()\n",
    "\n",
    "file_read = open('test.txt',encoding = 'utf8')\n",
    "    \n",
    "test = []\n",
    "for line in file_read.readlines():\n",
    "    test.append(line.strip())\n",
    "    \n",
    "file_read.close()\n",
    "\n",
    "print (\"Data loaded\")"
   ]
  },
  {
   "cell_type": "code",
   "execution_count": 18,
   "metadata": {},
   "outputs": [
    {
     "name": "stdout",
     "output_type": "stream",
     "text": [
      "Data cleaned\n"
     ]
    }
   ],
   "source": [
    "#Clean Data\n",
    "\n",
    "special_chars = re.compile(\"[.,:;!?\\'\\\"()\\[\\]]\") #Simply replace with nothing\n",
    "formatting = re.compile(\"(<br\\s*/><br\\s*/>)|(\\-)|(\\/)\") #Replace with a space\n",
    "\n",
    "train = [special_chars.sub(\"\", line.lower()) for line in train] #List comprehension to remove all special characters\n",
    "train = [formatting.sub(\" \", line.lower()) for line in train] #List comprehension to replace all formatting\n",
    "\n",
    "test = [special_chars.sub(\"\", line.lower()) for line in test] #List comprehension to remove all special characters\n",
    "test = [formatting.sub(\" \", line.lower()) for line in test] #List comprehension to replace all formatting\n",
    "\n",
    "print (\"Data cleaned\")"
   ]
  },
  {
   "cell_type": "code",
   "execution_count": 20,
   "metadata": {},
   "outputs": [
    {
     "name": "stdout",
     "output_type": "stream",
     "text": [
      "Data encoded\n"
     ]
    }
   ],
   "source": [
    "#Make a corpus of every word present in reviews, and use that to one-hot encode every review into simple vectors.\n",
    "#Is a simple unigram model\n",
    "\n",
    "vector_victor = CountVectorizer(binary=True) #Used to encode data\n",
    "vector_victor.fit(train) #Generates a consolidated corpus\n",
    "\n",
    "x = vector_victor.transform(train) #training data\n",
    "x_test = vector_victor.transform(test) #Test data\n",
    "\n",
    "print (\"Data encoded\")"
   ]
  },
  {
   "cell_type": "code",
   "execution_count": 27,
   "metadata": {},
   "outputs": [
    {
     "name": "stdout",
     "output_type": "stream",
     "text": [
      "Accuracy: 0.8862\n"
     ]
    }
   ],
   "source": [
    "#Basic regression classifier, used to test and adjust parameters\n",
    "\n",
    "#Parameters to adjust\n",
    "training_size = 0.8 #Size of training batch, rest is valdiation\n",
    "regularization = 0.05 #Adust regularization of data\n",
    "\n",
    "label = [1 if review <12500 else 0 for review in range(25000)] \n",
    "#Labels for the reviews, since data is unshuffled, first 12500 are positive, rest are negative"
   ]
  },
  {
   "cell_type": "code",
   "execution_count": 36,
   "metadata": {},
   "outputs": [
    {
     "name": "stdout",
     "output_type": "stream",
     "text": [
      "Accuracy: 0.87964 \n",
      "True Positive: 11037 \n",
      "False Positive: 1463 \n",
      "True Negative: 10954 \n",
      "False Negative: 1546\n"
     ]
    }
   ],
   "source": [
    "#Testing it against the test data\n",
    "\n",
    "model = LogisticRegression(C=regularization) #Fitting data against model\n",
    "model.fit(x,label)\n",
    "\n",
    "results = logistic_reg.predict(x_test) #Running Test data through model\n",
    "\n",
    "#Metrics\n",
    "true_positive = 0\n",
    "false_positive = 0\n",
    "\n",
    "true_negative = 0\n",
    "false_negative = 0\n",
    "\n",
    "for i in range(12500): #True and False Positives\n",
    "    if results[i] == label[i]:\n",
    "        true_positive += 1\n",
    "    else:\n",
    "        false_negative += 1\n",
    "        \n",
    "for i in range(12500,25000): #True and False Negatives\n",
    "    if results[i] == label[i]:\n",
    "        true_negative += 1\n",
    "    else:\n",
    "        false_positive += 1\n",
    "        \n",
    "accuracy = accuracy_score(label,results) #Tests against test set\n",
    "\n",
    "print (\"Accuracy: %s \\nTrue Positive: %s \\nFalse Positive: %s \\nTrue Negative: %s \\nFalse Negative: %s\"%(accuracy,true_positive,false_positive,true_negative,false_negative))"
   ]
  },
  {
   "cell_type": "code",
   "execution_count": null,
   "metadata": {},
   "outputs": [],
   "source": []
  }
 ],
 "metadata": {
  "kernelspec": {
   "display_name": "Python 3",
   "language": "python",
   "name": "python3"
  },
  "language_info": {
   "codemirror_mode": {
    "name": "ipython",
    "version": 3
   },
   "file_extension": ".py",
   "mimetype": "text/x-python",
   "name": "python",
   "nbconvert_exporter": "python",
   "pygments_lexer": "ipython3",
   "version": "3.6.7"
  }
 },
 "nbformat": 4,
 "nbformat_minor": 2
}
